{
  "cells": [
    {
      "cell_type": "markdown",
      "metadata": {
        "id": "f1JGBgHa11Xd"
      },
      "source": [
        "Build a regression model."
      ]
    },
    {
      "cell_type": "code",
      "execution_count": null,
      "metadata": {
        "colab": {
          "base_uri": "https://localhost:8080/"
        },
        "id": "u9XNxWEd11Xf",
        "outputId": "dc9074d6-836d-4aec-a364-20fe1a998096"
      },
      "outputs": [
        {
          "output_type": "stream",
          "name": "stdout",
          "text": [
            "             bike station                      poi name  \\\n",
            "0         Mobi Shaw Go HQ                   Sopra Sotto   \n",
            "1         Mobi Shaw Go HQ          Harbour Oyster + Bar   \n",
            "2  Mobi 0027 Bike Station  OEB Breakfast Co. - Yaletown   \n",
            "3         Mobi Shaw Go HQ           Via Tevere Pizzeria   \n",
            "4         Mobi Shaw Go HQ                    Lunch Lady   \n",
            "\n",
            "                               category  rating  review count  latitude  \\\n",
            "0                        Pizza, Italian     4.0           156  49.27111   \n",
            "1  Cocktail Bars, Seafood, Fish & Chips     4.1            87  49.27189   \n",
            "2                    Breakfast & Brunch     4.3           955  49.27348   \n",
            "3              Italian, Pizza, Desserts     4.1           361  49.27388   \n",
            "4                            Vietnamese     4.1           280  49.27497   \n",
            "\n",
            "   longitude_x                                           yelp url  \\\n",
            "0   -123.06947  https://www.yelp.com/biz/sopra-sotto-vancouver...   \n",
            "1   -123.06918  https://www.yelp.com/biz/harbour-oyster-bar-va...   \n",
            "2   -123.11928  https://www.yelp.com/biz/oeb-breakfast-co-yale...   \n",
            "3   -123.06553  https://www.yelp.com/biz/via-tevere-pizzeria-v...   \n",
            "4   -123.06915  https://www.yelp.com/biz/lunch-lady-vancouver?...   \n",
            "\n",
            "                                 id                    name  ...  free_bikes  \\\n",
            "0  a59924f0ff3fb481a7bd8a5e9c36858f  Point Grey & Bayswater  ...           6   \n",
            "1  9449a6a83fbf88452e384350e5ac95b7              York & Yew  ...          15   \n",
            "2  d2244f1a81d317c76cabd65e81250835      Marinaside & Davie  ...           8   \n",
            "3  4f6ebf2026d540ffe40e29a80138ad5e  Marinaside & Cooperage  ...           8   \n",
            "4  ac3b8198f03754a0afb8b6ed6d220cdd     Napier & Commercial  ...           1   \n",
            "\n",
            "  empty_slots  extra.uid  extra.renting  extra.returning  extra.last_updated  \\\n",
            "0          10        450              1                1          1738302773   \n",
            "1           4        204              1                1          1738303074   \n",
            "2          14         17              1                1          1738302968   \n",
            "3          18         57              1                1          1738302623   \n",
            "4          13        231              1                1          1738303134   \n",
            "\n",
            "   extra.slots  extra.normal_bikes  extra.ebikes  extra.has_ebikes  \n",
            "0           16                   6             0                 1  \n",
            "1           20                  12             3                 1  \n",
            "2           22                   7             1                 1  \n",
            "3           26                   7             1                 1  \n",
            "4           14                   0             1                 1  \n",
            "\n",
            "[5 rows x 22 columns]\n"
          ]
        }
      ],
      "source": [
        "import sqlite3\n",
        "import pandas as pd\n",
        "\n",
        "conn = sqlite3.connect(\"/content/bike_poi.db\")\n",
        "\n",
        "\n",
        "query = \"SELECT * FROM bike_poi_data\"\n",
        "df = pd.read_sql(query, conn)\n",
        "\n",
        "conn.close()\n",
        "\n",
        "print(df.head())\n"
      ]
    },
    {
      "cell_type": "code",
      "source": [
        "print(df.columns)\n"
      ],
      "metadata": {
        "colab": {
          "base_uri": "https://localhost:8080/"
        },
        "id": "eDqLwyw7-ROT",
        "outputId": "d58fed25-8723-455e-bd5d-0117177f213d"
      },
      "execution_count": null,
      "outputs": [
        {
          "output_type": "stream",
          "name": "stdout",
          "text": [
            "Index(['bike station', 'poi name', 'category', 'rating', 'review count',\n",
            "       'latitude', 'longitude_x', 'yelp url', 'id', 'name', 'longitude_y',\n",
            "       'timestamp', 'free_bikes', 'empty_slots', 'extra.uid', 'extra.renting',\n",
            "       'extra.returning', 'extra.last_updated', 'extra.slots',\n",
            "       'extra.normal_bikes', 'extra.ebikes', 'extra.has_ebikes'],\n",
            "      dtype='object')\n"
          ]
        }
      ]
    },
    {
      "cell_type": "code",
      "source": [
        "\n",
        "df[\"timestamp\"] = pd.to_datetime(df[\"timestamp\"])\n",
        "\n",
        "\n",
        "df[\"hour\"] = df[\"timestamp\"].dt.hour\n",
        "df[\"day_of_week\"] = df[\"timestamp\"].dt.day_name()\n",
        "\n",
        "\n",
        "print(df[[\"timestamp\", \"hour\", \"day_of_week\"]].head())\n"
      ],
      "metadata": {
        "colab": {
          "base_uri": "https://localhost:8080/"
        },
        "id": "Oe-A6kSHvt_i",
        "outputId": "a0d8ebd2-c197-4053-c122-b42ebf470b21"
      },
      "execution_count": null,
      "outputs": [
        {
          "output_type": "stream",
          "name": "stdout",
          "text": [
            "                         timestamp  hour day_of_week\n",
            "0 2025-01-31 05:59:41.842352+00:00     5      Friday\n",
            "1 2025-01-31 05:59:41.832017+00:00     5      Friday\n",
            "2 2025-01-31 05:59:41.782281+00:00     5      Friday\n",
            "3 2025-01-31 05:59:41.795901+00:00     5      Friday\n",
            "4 2025-01-31 05:59:41.833295+00:00     5      Friday\n"
          ]
        }
      ]
    },
    {
      "cell_type": "code",
      "source": [
        "import statsmodels.api as sm\n",
        "\n",
        "\n",
        "Y = df[\"free_bikes\"]\n",
        "\n",
        "\n",
        "X = df[[\"rating\", \"review count\", \"latitude\", \"longitude_x\",\n",
        "        \"hour\", \"extra.slots\", \"extra.ebikes\", \"extra.normal_bikes\"]]\n",
        "\n",
        "\n",
        "X = sm.add_constant(X)\n"
      ],
      "metadata": {
        "id": "6QWXriChSey2"
      },
      "execution_count": null,
      "outputs": []
    },
    {
      "cell_type": "code",
      "source": [
        "\n",
        "model = sm.OLS(Y, X).fit()\n",
        "\n",
        "\n",
        "print(model.summary())"
      ],
      "metadata": {
        "colab": {
          "base_uri": "https://localhost:8080/"
        },
        "id": "OuSycTn4iiiw",
        "outputId": "18d42c26-1424-4fb0-e424-b37a2c270101"
      },
      "execution_count": null,
      "outputs": [
        {
          "output_type": "stream",
          "name": "stdout",
          "text": [
            "                            OLS Regression Results                            \n",
            "==============================================================================\n",
            "Dep. Variable:             free_bikes   R-squared:                       1.000\n",
            "Model:                            OLS   Adj. R-squared:                  1.000\n",
            "Method:                 Least Squares   F-statistic:                 2.374e+25\n",
            "Date:                Fri, 31 Jan 2025   Prob (F-statistic):               0.00\n",
            "Time:                        18:06:01   Log-Likelihood:                 3901.2\n",
            "No. Observations:                 160   AIC:                            -7786.\n",
            "Df Residuals:                     152   BIC:                            -7762.\n",
            "Df Model:                           7                                         \n",
            "Covariance Type:            nonrobust                                         \n",
            "======================================================================================\n",
            "                         coef    std err          t      P>|t|      [0.025      0.975]\n",
            "--------------------------------------------------------------------------------------\n",
            "rating             -5.274e-16   1.24e-12     -0.000      1.000   -2.45e-12    2.44e-12\n",
            "review count        2.716e-16   1.03e-15      0.263      0.793   -1.77e-15    2.31e-15\n",
            "latitude           -1.279e-13   1.19e-10     -0.001      0.999   -2.35e-10    2.35e-10\n",
            "longitude_x        -9.948e-14   3.86e-11     -0.003      0.998   -7.64e-11    7.62e-11\n",
            "hour                2.842e-14   9.09e-10   3.13e-05      1.000    -1.8e-09     1.8e-09\n",
            "extra.slots        -2.567e-16   1.25e-13     -0.002      0.998   -2.46e-13    2.46e-13\n",
            "extra.ebikes           1.0000   3.74e-13   2.67e+12      0.000       1.000       1.000\n",
            "extra.normal_bikes     1.0000   9.01e-14   1.11e+13      0.000       1.000       1.000\n",
            "==============================================================================\n",
            "Omnibus:                       38.878   Durbin-Watson:                   0.000\n",
            "Prob(Omnibus):                  0.000   Jarque-Bera (JB):               64.234\n",
            "Skew:                          -1.218   Prob(JB):                     1.13e-14\n",
            "Kurtosis:                       4.923   Cond. No.                     1.42e+06\n",
            "==============================================================================\n",
            "\n",
            "Notes:\n",
            "[1] Standard Errors assume that the covariance matrix of the errors is correctly specified.\n",
            "[2] The condition number is large, 1.42e+06. This might indicate that there are\n",
            "strong multicollinearity or other numerical problems.\n"
          ]
        }
      ]
    },
    {
      "cell_type": "code",
      "source": [
        "# Compare ebike vs normal bike availability\n",
        "df[[\"extra.ebikes\", \"extra.normal_bikes\"]].describe()\n"
      ],
      "metadata": {
        "colab": {
          "base_uri": "https://localhost:8080/",
          "height": 300
        },
        "id": "1WCsxeRFStQN",
        "outputId": "8810f6d3-c9fb-4390-a35e-9699107249e7"
      },
      "execution_count": null,
      "outputs": [
        {
          "output_type": "execute_result",
          "data": {
            "text/plain": [
              "       extra.ebikes  extra.normal_bikes\n",
              "count    160.000000          160.000000\n",
              "mean       1.425000            9.381250\n",
              "std        1.494434            6.596046\n",
              "min        0.000000            0.000000\n",
              "25%        0.000000            3.000000\n",
              "50%        1.000000           11.000000\n",
              "75%        3.000000           15.000000\n",
              "max        6.000000           24.000000"
            ],
            "text/html": [
              "\n",
              "  <div id=\"df-001beb96-99da-4b96-923a-1930bdb4914c\" class=\"colab-df-container\">\n",
              "    <div>\n",
              "<style scoped>\n",
              "    .dataframe tbody tr th:only-of-type {\n",
              "        vertical-align: middle;\n",
              "    }\n",
              "\n",
              "    .dataframe tbody tr th {\n",
              "        vertical-align: top;\n",
              "    }\n",
              "\n",
              "    .dataframe thead th {\n",
              "        text-align: right;\n",
              "    }\n",
              "</style>\n",
              "<table border=\"1\" class=\"dataframe\">\n",
              "  <thead>\n",
              "    <tr style=\"text-align: right;\">\n",
              "      <th></th>\n",
              "      <th>extra.ebikes</th>\n",
              "      <th>extra.normal_bikes</th>\n",
              "    </tr>\n",
              "  </thead>\n",
              "  <tbody>\n",
              "    <tr>\n",
              "      <th>count</th>\n",
              "      <td>160.000000</td>\n",
              "      <td>160.000000</td>\n",
              "    </tr>\n",
              "    <tr>\n",
              "      <th>mean</th>\n",
              "      <td>1.425000</td>\n",
              "      <td>9.381250</td>\n",
              "    </tr>\n",
              "    <tr>\n",
              "      <th>std</th>\n",
              "      <td>1.494434</td>\n",
              "      <td>6.596046</td>\n",
              "    </tr>\n",
              "    <tr>\n",
              "      <th>min</th>\n",
              "      <td>0.000000</td>\n",
              "      <td>0.000000</td>\n",
              "    </tr>\n",
              "    <tr>\n",
              "      <th>25%</th>\n",
              "      <td>0.000000</td>\n",
              "      <td>3.000000</td>\n",
              "    </tr>\n",
              "    <tr>\n",
              "      <th>50%</th>\n",
              "      <td>1.000000</td>\n",
              "      <td>11.000000</td>\n",
              "    </tr>\n",
              "    <tr>\n",
              "      <th>75%</th>\n",
              "      <td>3.000000</td>\n",
              "      <td>15.000000</td>\n",
              "    </tr>\n",
              "    <tr>\n",
              "      <th>max</th>\n",
              "      <td>6.000000</td>\n",
              "      <td>24.000000</td>\n",
              "    </tr>\n",
              "  </tbody>\n",
              "</table>\n",
              "</div>\n",
              "    <div class=\"colab-df-buttons\">\n",
              "\n",
              "  <div class=\"colab-df-container\">\n",
              "    <button class=\"colab-df-convert\" onclick=\"convertToInteractive('df-001beb96-99da-4b96-923a-1930bdb4914c')\"\n",
              "            title=\"Convert this dataframe to an interactive table.\"\n",
              "            style=\"display:none;\">\n",
              "\n",
              "  <svg xmlns=\"http://www.w3.org/2000/svg\" height=\"24px\" viewBox=\"0 -960 960 960\">\n",
              "    <path d=\"M120-120v-720h720v720H120Zm60-500h600v-160H180v160Zm220 220h160v-160H400v160Zm0 220h160v-160H400v160ZM180-400h160v-160H180v160Zm440 0h160v-160H620v160ZM180-180h160v-160H180v160Zm440 0h160v-160H620v160Z\"/>\n",
              "  </svg>\n",
              "    </button>\n",
              "\n",
              "  <style>\n",
              "    .colab-df-container {\n",
              "      display:flex;\n",
              "      gap: 12px;\n",
              "    }\n",
              "\n",
              "    .colab-df-convert {\n",
              "      background-color: #E8F0FE;\n",
              "      border: none;\n",
              "      border-radius: 50%;\n",
              "      cursor: pointer;\n",
              "      display: none;\n",
              "      fill: #1967D2;\n",
              "      height: 32px;\n",
              "      padding: 0 0 0 0;\n",
              "      width: 32px;\n",
              "    }\n",
              "\n",
              "    .colab-df-convert:hover {\n",
              "      background-color: #E2EBFA;\n",
              "      box-shadow: 0px 1px 2px rgba(60, 64, 67, 0.3), 0px 1px 3px 1px rgba(60, 64, 67, 0.15);\n",
              "      fill: #174EA6;\n",
              "    }\n",
              "\n",
              "    .colab-df-buttons div {\n",
              "      margin-bottom: 4px;\n",
              "    }\n",
              "\n",
              "    [theme=dark] .colab-df-convert {\n",
              "      background-color: #3B4455;\n",
              "      fill: #D2E3FC;\n",
              "    }\n",
              "\n",
              "    [theme=dark] .colab-df-convert:hover {\n",
              "      background-color: #434B5C;\n",
              "      box-shadow: 0px 1px 3px 1px rgba(0, 0, 0, 0.15);\n",
              "      filter: drop-shadow(0px 1px 2px rgba(0, 0, 0, 0.3));\n",
              "      fill: #FFFFFF;\n",
              "    }\n",
              "  </style>\n",
              "\n",
              "    <script>\n",
              "      const buttonEl =\n",
              "        document.querySelector('#df-001beb96-99da-4b96-923a-1930bdb4914c button.colab-df-convert');\n",
              "      buttonEl.style.display =\n",
              "        google.colab.kernel.accessAllowed ? 'block' : 'none';\n",
              "\n",
              "      async function convertToInteractive(key) {\n",
              "        const element = document.querySelector('#df-001beb96-99da-4b96-923a-1930bdb4914c');\n",
              "        const dataTable =\n",
              "          await google.colab.kernel.invokeFunction('convertToInteractive',\n",
              "                                                    [key], {});\n",
              "        if (!dataTable) return;\n",
              "\n",
              "        const docLinkHtml = 'Like what you see? Visit the ' +\n",
              "          '<a target=\"_blank\" href=https://colab.research.google.com/notebooks/data_table.ipynb>data table notebook</a>'\n",
              "          + ' to learn more about interactive tables.';\n",
              "        element.innerHTML = '';\n",
              "        dataTable['output_type'] = 'display_data';\n",
              "        await google.colab.output.renderOutput(dataTable, element);\n",
              "        const docLink = document.createElement('div');\n",
              "        docLink.innerHTML = docLinkHtml;\n",
              "        element.appendChild(docLink);\n",
              "      }\n",
              "    </script>\n",
              "  </div>\n",
              "\n",
              "\n",
              "<div id=\"df-306b5f97-2696-437a-9fd2-2c52d71bf4ff\">\n",
              "  <button class=\"colab-df-quickchart\" onclick=\"quickchart('df-306b5f97-2696-437a-9fd2-2c52d71bf4ff')\"\n",
              "            title=\"Suggest charts\"\n",
              "            style=\"display:none;\">\n",
              "\n",
              "<svg xmlns=\"http://www.w3.org/2000/svg\" height=\"24px\"viewBox=\"0 0 24 24\"\n",
              "     width=\"24px\">\n",
              "    <g>\n",
              "        <path d=\"M19 3H5c-1.1 0-2 .9-2 2v14c0 1.1.9 2 2 2h14c1.1 0 2-.9 2-2V5c0-1.1-.9-2-2-2zM9 17H7v-7h2v7zm4 0h-2V7h2v10zm4 0h-2v-4h2v4z\"/>\n",
              "    </g>\n",
              "</svg>\n",
              "  </button>\n",
              "\n",
              "<style>\n",
              "  .colab-df-quickchart {\n",
              "      --bg-color: #E8F0FE;\n",
              "      --fill-color: #1967D2;\n",
              "      --hover-bg-color: #E2EBFA;\n",
              "      --hover-fill-color: #174EA6;\n",
              "      --disabled-fill-color: #AAA;\n",
              "      --disabled-bg-color: #DDD;\n",
              "  }\n",
              "\n",
              "  [theme=dark] .colab-df-quickchart {\n",
              "      --bg-color: #3B4455;\n",
              "      --fill-color: #D2E3FC;\n",
              "      --hover-bg-color: #434B5C;\n",
              "      --hover-fill-color: #FFFFFF;\n",
              "      --disabled-bg-color: #3B4455;\n",
              "      --disabled-fill-color: #666;\n",
              "  }\n",
              "\n",
              "  .colab-df-quickchart {\n",
              "    background-color: var(--bg-color);\n",
              "    border: none;\n",
              "    border-radius: 50%;\n",
              "    cursor: pointer;\n",
              "    display: none;\n",
              "    fill: var(--fill-color);\n",
              "    height: 32px;\n",
              "    padding: 0;\n",
              "    width: 32px;\n",
              "  }\n",
              "\n",
              "  .colab-df-quickchart:hover {\n",
              "    background-color: var(--hover-bg-color);\n",
              "    box-shadow: 0 1px 2px rgba(60, 64, 67, 0.3), 0 1px 3px 1px rgba(60, 64, 67, 0.15);\n",
              "    fill: var(--button-hover-fill-color);\n",
              "  }\n",
              "\n",
              "  .colab-df-quickchart-complete:disabled,\n",
              "  .colab-df-quickchart-complete:disabled:hover {\n",
              "    background-color: var(--disabled-bg-color);\n",
              "    fill: var(--disabled-fill-color);\n",
              "    box-shadow: none;\n",
              "  }\n",
              "\n",
              "  .colab-df-spinner {\n",
              "    border: 2px solid var(--fill-color);\n",
              "    border-color: transparent;\n",
              "    border-bottom-color: var(--fill-color);\n",
              "    animation:\n",
              "      spin 1s steps(1) infinite;\n",
              "  }\n",
              "\n",
              "  @keyframes spin {\n",
              "    0% {\n",
              "      border-color: transparent;\n",
              "      border-bottom-color: var(--fill-color);\n",
              "      border-left-color: var(--fill-color);\n",
              "    }\n",
              "    20% {\n",
              "      border-color: transparent;\n",
              "      border-left-color: var(--fill-color);\n",
              "      border-top-color: var(--fill-color);\n",
              "    }\n",
              "    30% {\n",
              "      border-color: transparent;\n",
              "      border-left-color: var(--fill-color);\n",
              "      border-top-color: var(--fill-color);\n",
              "      border-right-color: var(--fill-color);\n",
              "    }\n",
              "    40% {\n",
              "      border-color: transparent;\n",
              "      border-right-color: var(--fill-color);\n",
              "      border-top-color: var(--fill-color);\n",
              "    }\n",
              "    60% {\n",
              "      border-color: transparent;\n",
              "      border-right-color: var(--fill-color);\n",
              "    }\n",
              "    80% {\n",
              "      border-color: transparent;\n",
              "      border-right-color: var(--fill-color);\n",
              "      border-bottom-color: var(--fill-color);\n",
              "    }\n",
              "    90% {\n",
              "      border-color: transparent;\n",
              "      border-bottom-color: var(--fill-color);\n",
              "    }\n",
              "  }\n",
              "</style>\n",
              "\n",
              "  <script>\n",
              "    async function quickchart(key) {\n",
              "      const quickchartButtonEl =\n",
              "        document.querySelector('#' + key + ' button');\n",
              "      quickchartButtonEl.disabled = true;  // To prevent multiple clicks.\n",
              "      quickchartButtonEl.classList.add('colab-df-spinner');\n",
              "      try {\n",
              "        const charts = await google.colab.kernel.invokeFunction(\n",
              "            'suggestCharts', [key], {});\n",
              "      } catch (error) {\n",
              "        console.error('Error during call to suggestCharts:', error);\n",
              "      }\n",
              "      quickchartButtonEl.classList.remove('colab-df-spinner');\n",
              "      quickchartButtonEl.classList.add('colab-df-quickchart-complete');\n",
              "    }\n",
              "    (() => {\n",
              "      let quickchartButtonEl =\n",
              "        document.querySelector('#df-306b5f97-2696-437a-9fd2-2c52d71bf4ff button');\n",
              "      quickchartButtonEl.style.display =\n",
              "        google.colab.kernel.accessAllowed ? 'block' : 'none';\n",
              "    })();\n",
              "  </script>\n",
              "</div>\n",
              "\n",
              "    </div>\n",
              "  </div>\n"
            ],
            "application/vnd.google.colaboratory.intrinsic+json": {
              "type": "dataframe",
              "summary": "{\n  \"name\": \"df[[\\\"extra\",\n  \"rows\": 8,\n  \"fields\": [\n    {\n      \"column\": \"extra.ebikes\",\n      \"properties\": {\n        \"dtype\": \"number\",\n        \"std\": 55.94975120762757,\n        \"min\": 0.0,\n        \"max\": 160.0,\n        \"num_unique_values\": 7,\n        \"samples\": [\n          160.0,\n          1.425,\n          3.0\n        ],\n        \"semantic_type\": \"\",\n        \"description\": \"\"\n      }\n    },\n    {\n      \"column\": \"extra.normal_bikes\",\n      \"properties\": {\n        \"dtype\": \"number\",\n        \"std\": 53.59729526178926,\n        \"min\": 0.0,\n        \"max\": 160.0,\n        \"num_unique_values\": 8,\n        \"samples\": [\n          9.38125,\n          11.0,\n          160.0\n        ],\n        \"semantic_type\": \"\",\n        \"description\": \"\"\n      }\n    }\n  ]\n}"
            }
          },
          "metadata": {},
          "execution_count": 18
        }
      ]
    },
    {
      "cell_type": "markdown",
      "metadata": {
        "id": "jG2onDM511Xf"
      },
      "source": [
        "Provide model output and an interpretation of the results."
      ]
    },
    {
      "cell_type": "code",
      "execution_count": null,
      "metadata": {
        "colab": {
          "base_uri": "https://localhost:8080/",
          "height": 590
        },
        "id": "4ptBwa0i11Xg",
        "outputId": "b3b8c5d3-24e4-43be-aa62-e79f727699bb"
      },
      "outputs": [
        {
          "output_type": "display_data",
          "data": {
            "text/plain": [
              "<Figure size 640x480 with 1 Axes>"
            ],
            "image/png": "[encoded data removed]"
          },
          "metadata": {}
        }
      ],
      "source": [
        "# Bar chart: Ebikes vs Normal Bikes\n",
        "df[[\"extra.ebikes\", \"extra.normal_bikes\"]].sum().plot(kind=\"bar\")\n",
        "plt.xlabel(\"Bike Type\")\n",
        "plt.ylabel(\"Total Availability\")\n",
        "plt.title(\"Comparison of Ebikes vs Normal Bikes\")\n",
        "plt.show()\n",
        "\n",
        "\n"
      ]
    },
    {
      "cell_type": "markdown",
      "metadata": {
        "id": "fTZQvkQ211Xg"
      },
      "source": [
        "# Stretch"
      ]
    },
    {
      "cell_type": "markdown",
      "metadata": {
        "id": "H4JV20Kf11Xh"
      },
      "source": [
        "How can you turn the regression model into a classification model?"
      ]
    },
    {
      "cell_type": "code",
      "execution_count": null,
      "metadata": {
        "id": "kWgJl42H11Xh"
      },
      "outputs": [],
      "source": []
    }
  ],
  "metadata": {
    "kernelspec": {
      "display_name": "Python 3",
      "language": "python",
      "name": "python3"
    },
    "language_info": {
      "codemirror_mode": {
        "name": "ipython",
        "version": 3
      },
      "file_extension": ".py",
      "mimetype": "text/x-python",
      "name": "python",
      "nbconvert_exporter": "python",
      "pygments_lexer": "ipython3",
      "version": "3.8.5"
    },
    "colab": {
      "provenance": []
    }
  },
  "nbformat": 4,
  "nbformat_minor": 0
}