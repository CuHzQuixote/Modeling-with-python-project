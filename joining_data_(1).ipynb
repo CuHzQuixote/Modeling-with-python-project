{
  "cells": [
    {
      "cell_type": "markdown",
      "metadata": {
        "id": "Ct6dc8KICiw6"
      },
      "source": [
        "Join the data from Part 1 with the data from Part 2 to create a new dataframe."
      ]
    },
    {
      "cell_type": "code",
      "execution_count": null,
      "metadata": {
        "colab": {
          "base_uri": "https://localhost:8080/"
        },
        "id": "7UYQVNeBCiw7",
        "outputId": "e8f75871-04e3-439f-a66e-02f4c80f009d"
      },
      "outputs": [
        {
          "output_type": "stream",
          "name": "stdout",
          "text": [
            "Files in directory: ['.config', 'bike_station_pois_yelp.csv', 'mobibikes.csv', 'sample_data']\n",
            "  Bike Station                           POI Name  \\\n",
            "0  Urban Waves  Cardero's Restaurant & Marine Pub   \n",
            "1  Urban Waves                             Kingyo   \n",
            "2  Urban Waves                    Guu with Garlic   \n",
            "3  Urban Waves                   Maruhachi Ra-men   \n",
            "4  Urban Waves    Joe Fortes Seafood & Chop House   \n",
            "\n",
            "                                Category  Rating  Review Count   Latitude  \\\n",
            "0  Seafood, Cajun/Creole, Canadian (New)     3.9           723  49.291456   \n",
            "1           Japanese, Tapas/Small Plates     4.4          1231  49.290739   \n",
            "2           Japanese, Tapas/Small Plates     4.3          1099  49.290249   \n",
            "3                         Ramen, Noodles     4.3           791  49.290569   \n",
            "4                   Seafood, Steakhouses     4.0          1375  49.284969   \n",
            "\n",
            "    Longitude                                           Yelp URL  \n",
            "0 -123.127576  https://www.yelp.com/biz/carderos-restaurant-a...  \n",
            "1 -123.137050  https://www.yelp.com/biz/kingyo-vancouver?adju...  \n",
            "2 -123.133814  https://www.yelp.com/biz/guu-with-garlic-vanco...  \n",
            "3 -123.133395  https://www.yelp.com/biz/maruhachi-ra-men-vanc...  \n",
            "4 -123.124560  https://www.yelp.com/biz/joe-fortes-seafood-an...  \n"
          ]
        }
      ],
      "source": [
        "import pandas as pd\n",
        "\n",
        "import os\n",
        "print(\"Files in directory:\", os.listdir())\n",
        "\n",
        "\n",
        "file_path = \"/content/bike_station_pois_yelp.csv\"\n",
        "\n",
        "\n",
        "df = pd.read_csv(file_path)\n",
        "\n",
        "\n",
        "print(df.head())\n"
      ]
    },
    {
      "cell_type": "code",
      "source": [
        "import pandas as pd\n",
        "\n",
        "\n",
        "yelp_df = pd.read_csv(\"/content/bike_station_pois_yelp.csv\")\n",
        "\n",
        "\n",
        "bike_df = pd.read_csv(\"/content/mobibikes.csv\")\n",
        "\n",
        "\n",
        "print(\"Yelp Data:\")\n",
        "print(yelp_df.head())\n",
        "\n",
        "print(\"\\nBike Station Data:\")\n",
        "print(bike_df.head())\n"
      ],
      "metadata": {
        "colab": {
          "base_uri": "https://localhost:8080/"
        },
        "id": "BgMMPINmKnCD",
        "outputId": "d275382d-2203-4405-96a2-e62ba7ca1469"
      },
      "execution_count": null,
      "outputs": [
        {
          "output_type": "stream",
          "name": "stdout",
          "text": [
            "Yelp Data:\n",
            "  Bike Station                           POI Name  \\\n",
            "0  Urban Waves  Cardero's Restaurant & Marine Pub   \n",
            "1  Urban Waves                             Kingyo   \n",
            "2  Urban Waves                    Guu with Garlic   \n",
            "3  Urban Waves                   Maruhachi Ra-men   \n",
            "4  Urban Waves    Joe Fortes Seafood & Chop House   \n",
            "\n",
            "                                Category  Rating  Review Count   Latitude  \\\n",
            "0  Seafood, Cajun/Creole, Canadian (New)     3.9           723  49.291456   \n",
            "1           Japanese, Tapas/Small Plates     4.4          1231  49.290739   \n",
            "2           Japanese, Tapas/Small Plates     4.3          1099  49.290249   \n",
            "3                         Ramen, Noodles     4.3           791  49.290569   \n",
            "4                   Seafood, Steakhouses     4.0          1375  49.284969   \n",
            "\n",
            "    Longitude                                           Yelp URL  \n",
            "0 -123.127576  https://www.yelp.com/biz/carderos-restaurant-a...  \n",
            "1 -123.137050  https://www.yelp.com/biz/kingyo-vancouver?adju...  \n",
            "2 -123.133814  https://www.yelp.com/biz/guu-with-garlic-vanco...  \n",
            "3 -123.133395  https://www.yelp.com/biz/maruhachi-ra-men-vanc...  \n",
            "4 -123.124560  https://www.yelp.com/biz/joe-fortes-seafood-an...  \n",
            "\n",
            "Bike Station Data:\n",
            "                                 id                   name   latitude  \\\n",
            "0  00fa94ad698dc4a9e4d708d6fd32f294       Chilco & Barclay  49.291909   \n",
            "1  012d3e06901cc222b1c2cf0a2ace3a29   St George & Broadway  49.262321   \n",
            "2  029a505bd4422a1afd127987757f71a6  Britannia Parking Lot  49.275882   \n",
            "3  0438114d2e6b96118de69bc9775bb21e        Morton & Denman  49.288030   \n",
            "4  0459b7e93703980b853cd65a9dc60596    Thornton & National  49.273777   \n",
            "\n",
            "    longitude                    timestamp  free_bikes  empty_slots  \\\n",
            "0 -123.140713  2025-01-31T05:59:41.797204Z           6           12   \n",
            "1 -123.093060  2025-01-31T05:59:41.839208Z           3           11   \n",
            "2 -123.071865  2025-01-31T05:59:41.833363Z           1           13   \n",
            "3 -123.142135  2025-01-31T05:59:41.783186Z          23            3   \n",
            "4 -123.092723  2025-01-31T05:59:41.833424Z           5            9   \n",
            "\n",
            "   extra.uid  extra.renting  extra.returning  extra.last_updated  extra.slots  \\\n",
            "0         92           True             True          1738302879           18   \n",
            "1        248           True             True          1738303057           14   \n",
            "2        232           True             True          1738303130           14   \n",
            "3         31           True             True          1738303027           26   \n",
            "4        233           True             True          1738303126           14   \n",
            "\n",
            "   extra.normal_bikes  extra.ebikes  extra.has_ebikes  \n",
            "0                   3             3              True  \n",
            "1                   0             3              True  \n",
            "2                   1             0              True  \n",
            "3                  21             2              True  \n",
            "4                   4             1              True  \n"
          ]
        }
      ]
    },
    {
      "cell_type": "code",
      "source": [
        "print(yelp_df.columns)\n",
        "print(bike_df.columns)\n"
      ],
      "metadata": {
        "colab": {
          "base_uri": "https://localhost:8080/"
        },
        "id": "mi8su1U6K7wm",
        "outputId": "7de7ca32-073d-4ec8-8630-b7b6d45cb7a8"
      },
      "execution_count": null,
      "outputs": [
        {
          "output_type": "stream",
          "name": "stdout",
          "text": [
            "Index(['Bike Station', 'POI Name', 'Category', 'Rating', 'Review Count',\n",
            "       'Latitude', 'Longitude', 'Yelp URL'],\n",
            "      dtype='object')\n",
            "Index(['id', 'name', 'latitude', 'longitude', 'timestamp', 'free_bikes',\n",
            "       'empty_slots', 'extra.uid', 'extra.renting', 'extra.returning',\n",
            "       'extra.last_updated', 'extra.slots', 'extra.normal_bikes',\n",
            "       'extra.ebikes', 'extra.has_ebikes'],\n",
            "      dtype='object')\n"
          ]
        }
      ]
    },
    {
      "cell_type": "code",
      "source": [
        "yelp_df.columns = yelp_df.columns.str.lower()\n",
        "bike_df.columns = bike_df.columns.str.lower()"
      ],
      "metadata": {
        "id": "xoLrWamlLBSo"
      },
      "execution_count": null,
      "outputs": []
    },
    {
      "cell_type": "code",
      "source": [
        "merged_df = pd.merge(yelp_df, bike_df, on=[\"latitude\", \"longitude\"], how=\"inner\")"
      ],
      "metadata": {
        "id": "2VJ8MkEUM2_y"
      },
      "execution_count": null,
      "outputs": []
    },
    {
      "cell_type": "code",
      "source": [
        "print(\"Yelp Data:\")\n",
        "print(yelp_df.head())\n",
        "\n",
        "print(\"\\nBike Data:\")\n",
        "print(bike_df.head())\n",
        "\n"
      ],
      "metadata": {
        "colab": {
          "base_uri": "https://localhost:8080/"
        },
        "id": "L4_twZdGNLpT",
        "outputId": "a0aca7a9-c835-4400-decf-2779bfdd9003"
      },
      "execution_count": null,
      "outputs": [
        {
          "output_type": "stream",
          "name": "stdout",
          "text": [
            "Yelp Data:\n",
            "  bike station                           poi name  \\\n",
            "0  Urban Waves  Cardero's Restaurant & Marine Pub   \n",
            "1  Urban Waves                             Kingyo   \n",
            "2  Urban Waves                    Guu with Garlic   \n",
            "3  Urban Waves                   Maruhachi Ra-men   \n",
            "4  Urban Waves    Joe Fortes Seafood & Chop House   \n",
            "\n",
            "                                category  rating  review count   latitude  \\\n",
            "0  Seafood, Cajun/Creole, Canadian (New)     3.9           723  49.291456   \n",
            "1           Japanese, Tapas/Small Plates     4.4          1231  49.290739   \n",
            "2           Japanese, Tapas/Small Plates     4.3          1099  49.290249   \n",
            "3                         Ramen, Noodles     4.3           791  49.290569   \n",
            "4                   Seafood, Steakhouses     4.0          1375  49.284969   \n",
            "\n",
            "    longitude                                           yelp url  \n",
            "0 -123.127576  https://www.yelp.com/biz/carderos-restaurant-a...  \n",
            "1 -123.137050  https://www.yelp.com/biz/kingyo-vancouver?adju...  \n",
            "2 -123.133814  https://www.yelp.com/biz/guu-with-garlic-vanco...  \n",
            "3 -123.133395  https://www.yelp.com/biz/maruhachi-ra-men-vanc...  \n",
            "4 -123.124560  https://www.yelp.com/biz/joe-fortes-seafood-an...  \n",
            "\n",
            "Bike Data:\n",
            "                                 id                   name   latitude  \\\n",
            "0  00fa94ad698dc4a9e4d708d6fd32f294       Chilco & Barclay  49.291909   \n",
            "1  012d3e06901cc222b1c2cf0a2ace3a29   St George & Broadway  49.262321   \n",
            "2  029a505bd4422a1afd127987757f71a6  Britannia Parking Lot  49.275882   \n",
            "3  0438114d2e6b96118de69bc9775bb21e        Morton & Denman  49.288030   \n",
            "4  0459b7e93703980b853cd65a9dc60596    Thornton & National  49.273777   \n",
            "\n",
            "    longitude                    timestamp  free_bikes  empty_slots  \\\n",
            "0 -123.140713  2025-01-31T05:59:41.797204Z           6           12   \n",
            "1 -123.093060  2025-01-31T05:59:41.839208Z           3           11   \n",
            "2 -123.071865  2025-01-31T05:59:41.833363Z           1           13   \n",
            "3 -123.142135  2025-01-31T05:59:41.783186Z          23            3   \n",
            "4 -123.092723  2025-01-31T05:59:41.833424Z           5            9   \n",
            "\n",
            "   extra.uid  extra.renting  extra.returning  extra.last_updated  extra.slots  \\\n",
            "0         92           True             True          1738302879           18   \n",
            "1        248           True             True          1738303057           14   \n",
            "2        232           True             True          1738303130           14   \n",
            "3         31           True             True          1738303027           26   \n",
            "4        233           True             True          1738303126           14   \n",
            "\n",
            "   extra.normal_bikes  extra.ebikes  extra.has_ebikes  \n",
            "0                   3             3              True  \n",
            "1                   0             3              True  \n",
            "2                   1             0              True  \n",
            "3                  21             2              True  \n",
            "4                   4             1              True  \n"
          ]
        }
      ]
    },
    {
      "cell_type": "code",
      "source": [
        "print(\"Yelp Columns:\", yelp_df.columns)\n",
        "print(\"Bike Columns:\", bike_df.columns)\n"
      ],
      "metadata": {
        "colab": {
          "base_uri": "https://localhost:8080/"
        },
        "id": "i3y_R1dBOHQJ",
        "outputId": "cd6281d8-3973-4da6-f1b8-3bbb7d560ef0"
      },
      "execution_count": null,
      "outputs": [
        {
          "output_type": "stream",
          "name": "stdout",
          "text": [
            "Yelp Columns: Index(['bike station', 'poi name', 'category', 'rating', 'review count',\n",
            "       'latitude', 'longitude', 'yelp url'],\n",
            "      dtype='object')\n",
            "Bike Columns: Index(['id', 'name', 'latitude', 'longitude', 'timestamp', 'free_bikes',\n",
            "       'empty_slots', 'extra.uid', 'extra.renting', 'extra.returning',\n",
            "       'extra.last_updated', 'extra.slots', 'extra.normal_bikes',\n",
            "       'extra.ebikes', 'extra.has_ebikes'],\n",
            "      dtype='object')\n"
          ]
        }
      ]
    },
    {
      "cell_type": "code",
      "source": [
        "print(yelp_df.dtypes)\n",
        "print(bike_df.dtypes)\n"
      ],
      "metadata": {
        "colab": {
          "base_uri": "https://localhost:8080/"
        },
        "id": "BVh540q8OOE2",
        "outputId": "3b9f2546-aeee-47a9-c8a2-db84121dad16"
      },
      "execution_count": null,
      "outputs": [
        {
          "output_type": "stream",
          "name": "stdout",
          "text": [
            "bike station     object\n",
            "poi name         object\n",
            "category         object\n",
            "rating          float64\n",
            "review count      int64\n",
            "latitude        float64\n",
            "longitude       float64\n",
            "yelp url         object\n",
            "dtype: object\n",
            "id                     object\n",
            "name                   object\n",
            "latitude              float64\n",
            "longitude             float64\n",
            "timestamp              object\n",
            "free_bikes              int64\n",
            "empty_slots             int64\n",
            "extra.uid               int64\n",
            "extra.renting            bool\n",
            "extra.returning          bool\n",
            "extra.last_updated      int64\n",
            "extra.slots             int64\n",
            "extra.normal_bikes      int64\n",
            "extra.ebikes            int64\n",
            "extra.has_ebikes         bool\n",
            "dtype: object\n"
          ]
        }
      ]
    },
    {
      "cell_type": "code",
      "source": [
        "yelp_df[\"latitude\"] = yelp_df[\"latitude\"].round(5)\n",
        "yelp_df[\"longitude\"] = yelp_df[\"longitude\"].round(5)\n",
        "\n",
        "bike_df[\"latitude\"] = bike_df[\"latitude\"].round(5)\n",
        "bike_df[\"longitude\"] = bike_df[\"longitude\"].round(5)\n"
      ],
      "metadata": {
        "id": "pKg0VznWOUNr"
      },
      "execution_count": null,
      "outputs": []
    },
    {
      "cell_type": "code",
      "source": [
        "\n",
        "yelp_df = yelp_df.sort_values(\"latitude\")\n",
        "bike_df = bike_df.sort_values(\"latitude\")\n",
        "\n",
        "\n",
        "merged_df = pd.merge_asof(yelp_df, bike_df, on=\"latitude\", direction=\"nearest\")\n",
        "\n",
        "print(merged_df.head())\n"
      ],
      "metadata": {
        "colab": {
          "base_uri": "https://localhost:8080/"
        },
        "id": "RTZMUmv4OaHd",
        "outputId": "d0556023-74f4-4b73-9869-6177b071315c"
      },
      "execution_count": null,
      "outputs": [
        {
          "output_type": "stream",
          "name": "stdout",
          "text": [
            "             bike station                      poi name  \\\n",
            "0         Mobi Shaw Go HQ                   Sopra Sotto   \n",
            "1         Mobi Shaw Go HQ          Harbour Oyster + Bar   \n",
            "2  Mobi 0027 Bike Station  OEB Breakfast Co. - Yaletown   \n",
            "3         Mobi Shaw Go HQ           Via Tevere Pizzeria   \n",
            "4         Mobi Shaw Go HQ                    Lunch Lady   \n",
            "\n",
            "                               category  rating  review count  latitude  \\\n",
            "0                        Pizza, Italian     4.0           156  49.27111   \n",
            "1  Cocktail Bars, Seafood, Fish & Chips     4.1            87  49.27189   \n",
            "2                    Breakfast & Brunch     4.3           955  49.27348   \n",
            "3              Italian, Pizza, Desserts     4.1           361  49.27388   \n",
            "4                            Vietnamese     4.1           280  49.27497   \n",
            "\n",
            "   longitude_x                                           yelp url  \\\n",
            "0   -123.06947  https://www.yelp.com/biz/sopra-sotto-vancouver...   \n",
            "1   -123.06918  https://www.yelp.com/biz/harbour-oyster-bar-va...   \n",
            "2   -123.11928  https://www.yelp.com/biz/oeb-breakfast-co-yale...   \n",
            "3   -123.06553  https://www.yelp.com/biz/via-tevere-pizzeria-v...   \n",
            "4   -123.06915  https://www.yelp.com/biz/lunch-lady-vancouver?...   \n",
            "\n",
            "                                 id                    name  ...  free_bikes  \\\n",
            "0  a59924f0ff3fb481a7bd8a5e9c36858f  Point Grey & Bayswater  ...           6   \n",
            "1  9449a6a83fbf88452e384350e5ac95b7              York & Yew  ...          15   \n",
            "2  d2244f1a81d317c76cabd65e81250835      Marinaside & Davie  ...           8   \n",
            "3  4f6ebf2026d540ffe40e29a80138ad5e  Marinaside & Cooperage  ...           8   \n",
            "4  ac3b8198f03754a0afb8b6ed6d220cdd     Napier & Commercial  ...           1   \n",
            "\n",
            "  empty_slots  extra.uid  extra.renting  extra.returning  extra.last_updated  \\\n",
            "0          10        450           True             True          1738302773   \n",
            "1           4        204           True             True          1738303074   \n",
            "2          14         17           True             True          1738302968   \n",
            "3          18         57           True             True          1738302623   \n",
            "4          13        231           True             True          1738303134   \n",
            "\n",
            "   extra.slots  extra.normal_bikes  extra.ebikes  extra.has_ebikes  \n",
            "0           16                   6             0              True  \n",
            "1           20                  12             3              True  \n",
            "2           22                   7             1              True  \n",
            "3           26                   7             1              True  \n",
            "4           14                   0             1              True  \n",
            "\n",
            "[5 rows x 22 columns]\n"
          ]
        }
      ]
    },
    {
      "cell_type": "markdown",
      "metadata": {
        "id": "MkZlaitaCiw8"
      },
      "source": [
        "Provide a visualization that you used as part of your EDA process. Explain the initial pattern or relationship you discoved through this visualization."
      ]
    },
    {
      "cell_type": "code",
      "execution_count": null,
      "metadata": {
        "id": "1O_1PFvmCiw8"
      },
      "outputs": [],
      "source": []
    },
    {
      "cell_type": "markdown",
      "metadata": {
        "id": "7vwlXpHMCiw9"
      },
      "source": [
        "# Database"
      ]
    },
    {
      "cell_type": "markdown",
      "metadata": {
        "id": "gY1OaR3QCiw9"
      },
      "source": [
        "Put all your results in an SQLite3 database (remember, SQLite stores its databases as files in your local machine - make sure to create your database in your project's data/ directory!)"
      ]
    },
    {
      "cell_type": "code",
      "execution_count": null,
      "metadata": {
        "id": "Fwis0SR-Ciw9"
      },
      "outputs": [],
      "source": [
        "import sqlite3\n",
        "import pandas as pd"
      ]
    },
    {
      "cell_type": "code",
      "source": [
        "\n",
        "conn = sqlite3.connect(\"/content/bike_poi.db\")\n",
        "\n",
        "\n",
        "cursor = conn.cursor()\n"
      ],
      "metadata": {
        "id": "QXMg_tSxw_sx"
      },
      "execution_count": null,
      "outputs": []
    },
    {
      "cell_type": "code",
      "source": [
        "\n",
        "merged_df.to_sql(\"bike_poi_data\", conn, if_exists=\"replace\", index=False)\n",
        "\n",
        "print(\"✅ Database 'bike_poi.db' created with table 'bike_poi_data'\")\n"
      ],
      "metadata": {
        "colab": {
          "base_uri": "https://localhost:8080/"
        },
        "id": "p_On9WNqxiUs",
        "outputId": "68f70efe-a603-44ae-9eca-fa3162db97e5"
      },
      "execution_count": null,
      "outputs": [
        {
          "output_type": "stream",
          "name": "stdout",
          "text": [
            "✅ Database 'bike_poi.db' created with table 'bike_poi_data'\n"
          ]
        }
      ]
    },
    {
      "cell_type": "code",
      "source": [
        "\n",
        "query = \"SELECT * FROM bike_poi_data LIMIT 10\"\n",
        "df_check = pd.read_sql(query, conn)\n",
        "\n",
        "\n",
        "print(df_check)\n"
      ],
      "metadata": {
        "colab": {
          "base_uri": "https://localhost:8080/"
        },
        "id": "b_EOaaH2xnwL",
        "outputId": "97356d67-c9fb-4995-acb6-fd2a9016ab21"
      },
      "execution_count": null,
      "outputs": [
        {
          "output_type": "stream",
          "name": "stdout",
          "text": [
            "                                        bike station  \\\n",
            "0                                    Mobi Shaw Go HQ   \n",
            "1                                    Mobi Shaw Go HQ   \n",
            "2                             Mobi 0027 Bike Station   \n",
            "3                                    Mobi Shaw Go HQ   \n",
            "4                                    Mobi Shaw Go HQ   \n",
            "5                Bee's Knees eBike Tours and Rentals   \n",
            "6                             Mobi 0027 Bike Station   \n",
            "7  Yes Cycle Bike Rentals & Sup Paddle Board Rentals   \n",
            "8                             Mobi 0027 Bike Station   \n",
            "9                             Mobi 0027 Bike Station   \n",
            "\n",
            "                       poi name                              category  rating  \\\n",
            "0                   Sopra Sotto                        Pizza, Italian     4.0   \n",
            "1          Harbour Oyster + Bar  Cocktail Bars, Seafood, Fish & Chips     4.1   \n",
            "2  OEB Breakfast Co. - Yaletown                    Breakfast & Brunch     4.3   \n",
            "3           Via Tevere Pizzeria              Italian, Pizza, Desserts     4.1   \n",
            "4                    Lunch Lady                            Vietnamese     4.1   \n",
            "5     The Flying Pig - Yaletown               Canadian (New), Seafood     4.0   \n",
            "6     The Flying Pig - Yaletown               Canadian (New), Seafood     4.0   \n",
            "7     The Flying Pig - Yaletown               Canadian (New), Seafood     4.0   \n",
            "8                        Minami                  Japanese, Sushi Bars     4.1   \n",
            "9                Robba da Matti                   Italian, Tapas Bars     4.2   \n",
            "\n",
            "   review count  latitude  longitude_x  \\\n",
            "0           156  49.27111   -123.06947   \n",
            "1            87  49.27189   -123.06918   \n",
            "2           955  49.27348   -123.11928   \n",
            "3           361  49.27388   -123.06553   \n",
            "4           280  49.27497   -123.06915   \n",
            "5          1393  49.27501   -123.12200   \n",
            "6          1393  49.27501   -123.12200   \n",
            "7          1393  49.27501   -123.12200   \n",
            "8           817  49.27527   -123.12070   \n",
            "9           544  49.27534   -123.12090   \n",
            "\n",
            "                                            yelp url  \\\n",
            "0  https://www.yelp.com/biz/sopra-sotto-vancouver...   \n",
            "1  https://www.yelp.com/biz/harbour-oyster-bar-va...   \n",
            "2  https://www.yelp.com/biz/oeb-breakfast-co-yale...   \n",
            "3  https://www.yelp.com/biz/via-tevere-pizzeria-v...   \n",
            "4  https://www.yelp.com/biz/lunch-lady-vancouver?...   \n",
            "5  https://www.yelp.com/biz/the-flying-pig-yaleto...   \n",
            "6  https://www.yelp.com/biz/the-flying-pig-yaleto...   \n",
            "7  https://www.yelp.com/biz/the-flying-pig-yaleto...   \n",
            "8  https://www.yelp.com/biz/minami-vancouver?adju...   \n",
            "9  https://www.yelp.com/biz/robba-da-matti-vancou...   \n",
            "\n",
            "                                 id                    name  ...  free_bikes  \\\n",
            "0  a59924f0ff3fb481a7bd8a5e9c36858f  Point Grey & Bayswater  ...           6   \n",
            "1  9449a6a83fbf88452e384350e5ac95b7              York & Yew  ...          15   \n",
            "2  d2244f1a81d317c76cabd65e81250835      Marinaside & Davie  ...           8   \n",
            "3  4f6ebf2026d540ffe40e29a80138ad5e  Marinaside & Cooperage  ...           8   \n",
            "4  ac3b8198f03754a0afb8b6ed6d220cdd     Napier & Commercial  ...           1   \n",
            "5  ac3b8198f03754a0afb8b6ed6d220cdd     Napier & Commercial  ...           1   \n",
            "6  ac3b8198f03754a0afb8b6ed6d220cdd     Napier & Commercial  ...           1   \n",
            "7  ac3b8198f03754a0afb8b6ed6d220cdd     Napier & Commercial  ...           1   \n",
            "8  99c81f71db35911c79a86a1c5edc5604          Beach & Hornby  ...          15   \n",
            "9  99c81f71db35911c79a86a1c5edc5604          Beach & Hornby  ...          15   \n",
            "\n",
            "  empty_slots  extra.uid  extra.renting  extra.returning  extra.last_updated  \\\n",
            "0          10        450              1                1          1738302773   \n",
            "1           4        204              1                1          1738303074   \n",
            "2          14         17              1                1          1738302968   \n",
            "3          18         57              1                1          1738302623   \n",
            "4          13        231              1                1          1738303134   \n",
            "5          13        231              1                1          1738303134   \n",
            "6          13        231              1                1          1738303134   \n",
            "7          13        231              1                1          1738303134   \n",
            "8           7         45              1                1          1738302810   \n",
            "9           7         45              1                1          1738302810   \n",
            "\n",
            "   extra.slots  extra.normal_bikes  extra.ebikes  extra.has_ebikes  \n",
            "0           16                   6             0                 1  \n",
            "1           20                  12             3                 1  \n",
            "2           22                   7             1                 1  \n",
            "3           26                   7             1                 1  \n",
            "4           14                   0             1                 1  \n",
            "5           14                   0             1                 1  \n",
            "6           14                   0             1                 1  \n",
            "7           14                   0             1                 1  \n",
            "8           22                  11             4                 1  \n",
            "9           22                  11             4                 1  \n",
            "\n",
            "[10 rows x 22 columns]\n"
          ]
        }
      ]
    },
    {
      "cell_type": "code",
      "source": [
        "conn.close()\n",
        "print(\"✅ Database connection closed.\")\n"
      ],
      "metadata": {
        "colab": {
          "base_uri": "https://localhost:8080/"
        },
        "id": "mJJ5CPOsyIsc",
        "outputId": "a7fc13fd-cf9b-47b3-cd0c-21658dd94cf1"
      },
      "execution_count": null,
      "outputs": [
        {
          "output_type": "stream",
          "name": "stdout",
          "text": [
            "✅ Database connection closed.\n"
          ]
        }
      ]
    },
    {
      "cell_type": "code",
      "source": [
        "from google.colab import files\n",
        "files.download(\"/content/bike_poi.db\")\n"
      ],
      "metadata": {
        "colab": {
          "base_uri": "https://localhost:8080/",
          "height": 17
        },
        "id": "PqfDXN72yL3r",
        "outputId": "707c32ff-8907-4287-c67b-39090079ef6a"
      },
      "execution_count": null,
      "outputs": [
        {
          "output_type": "display_data",
          "data": {
            "text/plain": [
              "<IPython.core.display.Javascript object>"
            ],
            "application/javascript": [
              "\n",
              "    async function download(id, filename, size) {\n",
              "      if (!google.colab.kernel.accessAllowed) {\n",
              "        return;\n",
              "      }\n",
              "      const div = document.createElement('div');\n",
              "      const label = document.createElement('label');\n",
              "      label.textContent = `Downloading \"${filename}\": `;\n",
              "      div.appendChild(label);\n",
              "      const progress = document.createElement('progress');\n",
              "      progress.max = size;\n",
              "      div.appendChild(progress);\n",
              "      document.body.appendChild(div);\n",
              "\n",
              "      const buffers = [];\n",
              "      let downloaded = 0;\n",
              "\n",
              "      const channel = await google.colab.kernel.comms.open(id);\n",
              "      // Send a message to notify the kernel that we're ready.\n",
              "      channel.send({})\n",
              "\n",
              "      for await (const message of channel.messages) {\n",
              "        // Send a message to notify the kernel that we're ready.\n",
              "        channel.send({})\n",
              "        if (message.buffers) {\n",
              "          for (const buffer of message.buffers) {\n",
              "            buffers.push(buffer);\n",
              "            downloaded += buffer.byteLength;\n",
              "            progress.value = downloaded;\n",
              "          }\n",
              "        }\n",
              "      }\n",
              "      const blob = new Blob(buffers, {type: 'application/binary'});\n",
              "      const a = document.createElement('a');\n",
              "      a.href = window.URL.createObjectURL(blob);\n",
              "      a.download = filename;\n",
              "      div.appendChild(a);\n",
              "      a.click();\n",
              "      div.remove();\n",
              "    }\n",
              "  "
            ]
          },
          "metadata": {}
        },
        {
          "output_type": "display_data",
          "data": {
            "text/plain": [
              "<IPython.core.display.Javascript object>"
            ],
            "application/javascript": [
              "download(\"download_99b53dc8-cc33-49ea-9cb3-d0823092d5a5\", \"bike_poi.db\", 73728)"
            ]
          },
          "metadata": {}
        }
      ]
    },
    {
      "cell_type": "markdown",
      "metadata": {
        "id": "8tS68vwtCiw-"
      },
      "source": [
        "Look at the data before and after the join to validate your data."
      ]
    },
    {
      "cell_type": "code",
      "execution_count": null,
      "metadata": {
        "id": "4Oev09x9Ciw-"
      },
      "outputs": [],
      "source": []
    }
  ],
  "metadata": {
    "kernelspec": {
      "display_name": "Python 3",
      "language": "python",
      "name": "python3"
    },
    "language_info": {
      "codemirror_mode": {
        "name": "ipython",
        "version": 3
      },
      "file_extension": ".py",
      "mimetype": "text/x-python",
      "name": "python",
      "nbconvert_exporter": "python",
      "pygments_lexer": "ipython3",
      "version": "3.8.5"
    },
    "colab": {
      "provenance": []
    }
  },
  "nbformat": 4,
  "nbformat_minor": 0
}